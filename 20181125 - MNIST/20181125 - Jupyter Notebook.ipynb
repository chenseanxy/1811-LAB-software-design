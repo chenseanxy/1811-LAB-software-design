{
 "cells": [
  {
   "cell_type": "markdown",
   "metadata": {},
   "source": [
    "# Task 1"
   ]
  },
  {
   "cell_type": "markdown",
   "metadata": {},
   "source": [
    "Input: string from input()"
   ]
  },
  {
   "cell_type": "code",
   "execution_count": 3,
   "metadata": {},
   "outputs": [
    {
     "name": "stdout",
     "output_type": "stream",
     "text": [
      "125\n",
      "49087.34375\n"
     ]
    }
   ],
   "source": [
    "raw=input()\n",
    "rad=float(raw)\n",
    "area=3.14159*rad**2\n",
    "print(area)"
   ]
  },
  {
   "cell_type": "markdown",
   "metadata": {},
   "source": [
    "# Task 2"
   ]
  },
  {
   "cell_type": "markdown",
   "metadata": {},
   "source": [
    "Currently not available due to Jupyter restrictions"
   ]
  },
  {
   "cell_type": "markdown",
   "metadata": {},
   "source": [
    "# Task 3"
   ]
  },
  {
   "cell_type": "markdown",
   "metadata": {},
   "source": [
    "Using python's eval() function for evalutaion"
   ]
  },
  {
   "cell_type": "code",
   "execution_count": 17,
   "metadata": {},
   "outputs": [
    {
     "name": "stdout",
     "output_type": "stream",
     "text": [
      "25+10\n",
      "25+10=35\n"
     ]
    }
   ],
   "source": [
    "input3=input()\n",
    "result=eval(input3)\n",
    "print(input3, result, sep=\"=\")"
   ]
  },
  {
   "cell_type": "markdown",
   "metadata": {},
   "source": [
    "# Task 4"
   ]
  },
  {
   "cell_type": "markdown",
   "metadata": {},
   "source": [
    "Generates random student data for stuCount students, into stuData list"
   ]
  },
  {
   "cell_type": "code",
   "execution_count": 10,
   "metadata": {},
   "outputs": [],
   "source": [
    "import random\n",
    "stuCount=100\n",
    "stuData=[]\n",
    "for i in range(stuCount):\n",
    "    stuData.append(random.randrange(0,100))"
   ]
  },
  {
   "cell_type": "markdown",
   "metadata": {},
   "source": [
    "Visualizes stuData:  \n",
    "Range 1: 90+  \n",
    "Range 2: 80-89  \n",
    "Range 3: 70-70  \n",
    "Range 4: 60-69  \n",
    "Range 5: 59-  "
   ]
  },
  {
   "cell_type": "code",
   "execution_count": 12,
   "metadata": {},
   "outputs": [
    {
     "name": "stdout",
     "output_type": "stream",
     "text": [
      "90 -100:**********\n",
      "80 - 89:*********\n",
      "70 - 79:**********\n",
      "60 - 69:***********\n",
      "0  - 59:************************************************************\n"
     ]
    }
   ],
   "source": [
    "counts=[0,0,0,0,0]\n",
    "visStrings=(\"90 -100:\", \"80 - 89:\", \"70 - 79:\", \"60 - 69:\", \"0  - 59:\")\n",
    "\n",
    "for score in stuData:\n",
    "    if(score > 89):\n",
    "        counts[0]+=1\n",
    "    elif(score > 79):\n",
    "        counts[1]+=1\n",
    "    elif(score > 69):\n",
    "        counts[2]+=1\n",
    "    elif(score > 59):\n",
    "        counts[3]+=1\n",
    "    else:\n",
    "        counts[4]+=1\n",
    "\n",
    "for i in range(5):\n",
    "    line=visStrings[i]+\"*\"*counts[i]\n",
    "    print(line)"
   ]
  },
  {
   "cell_type": "markdown",
   "metadata": {},
   "source": [
    "# Task 5"
   ]
  },
  {
   "cell_type": "markdown",
   "metadata": {},
   "source": [
    "Currently not available due to Jupyter restrictions"
   ]
  }
 ],
 "metadata": {
  "kernelspec": {
   "display_name": "Python 3",
   "language": "python",
   "name": "python3"
  },
  "language_info": {
   "codemirror_mode": {
    "name": "ipython",
    "version": 3
   },
   "file_extension": ".py",
   "mimetype": "text/x-python",
   "name": "python",
   "nbconvert_exporter": "python",
   "pygments_lexer": "ipython3",
   "version": "3.6.5"
  }
 },
 "nbformat": 4,
 "nbformat_minor": 2
}
