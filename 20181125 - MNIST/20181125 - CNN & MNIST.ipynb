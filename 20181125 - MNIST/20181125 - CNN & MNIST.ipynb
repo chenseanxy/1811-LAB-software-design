{
 "cells": [
  {
   "cell_type": "markdown",
   "metadata": {},
   "source": [
    "# Simple CNN for MNIST"
   ]
  },
  {
   "cell_type": "markdown",
   "metadata": {},
   "source": [
    "## Imports:  \n"
   ]
  },
  {
   "cell_type": "code",
   "execution_count": 1,
   "metadata": {},
   "outputs": [
    {
     "name": "stderr",
     "output_type": "stream",
     "text": [
      "Using TensorFlow backend.\n"
     ]
    }
   ],
   "source": [
    "import pandas as pd\n",
    "import numpy as np\n",
    "import matplotlib.pyplot as plt\n",
    "import matplotlib.image as mpimg\n",
    "import seaborn as sns\n",
    "%matplotlib inline\n",
    "\n",
    "np.random.seed(2)\n",
    "\n",
    "from sklearn.model_selection import train_test_split\n",
    "from sklearn.metrics import confusion_matrix\n",
    "import itertools\n",
    "\n",
    "from keras.utils.np_utils import to_categorical # convert to one-hot-encoding\n",
    "from keras.models import Sequential\n",
    "from keras.layers import Dense, Dropout, Flatten, Conv2D, MaxPool2D\n",
    "from keras.optimizers import RMSprop\n",
    "from keras.preprocessing.image import ImageDataGenerator\n",
    "from keras.callbacks import ReduceLROnPlateau, TensorBoard\n",
    "\n",
    "import tensorflow as tf\n",
    "import os\n",
    "import time\n",
    "import pickle\n",
    "\n",
    "sns.set(style='white', context='notebook', palette='deep')"
   ]
  },
  {
   "cell_type": "markdown",
   "metadata": {},
   "source": [
    "#### Working directory:"
   ]
  },
  {
   "cell_type": "code",
   "execution_count": 2,
   "metadata": {},
   "outputs": [],
   "source": [
    "working_dir=\"C:/Users/chenx/Desktop/1811_softdesign/20181125 - MNIST/\""
   ]
  },
  {
   "cell_type": "markdown",
   "metadata": {},
   "source": [
    "## Data"
   ]
  },
  {
   "cell_type": "code",
   "execution_count": 3,
   "metadata": {},
   "outputs": [],
   "source": [
    "train_csv_path = os.path.join(working_dir, \"train.csv\")\n",
    "test_csv_path = os.path.join(working_dir, \"test.csv\")\n",
    "\n",
    "train = pd.read_csv(train_csv_path)\n",
    "test = pd.read_csv(test_csv_path)"
   ]
  },
  {
   "cell_type": "markdown",
   "metadata": {},
   "source": [
    "#### Separate training data into X,Y:  \n",
    "X: Training Label  \n",
    "Y: Image Data"
   ]
  },
  {
   "cell_type": "code",
   "execution_count": 4,
   "metadata": {},
   "outputs": [
    {
     "data": {
      "text/plain": [
       "1    4684\n",
       "7    4401\n",
       "3    4351\n",
       "9    4188\n",
       "2    4177\n",
       "6    4137\n",
       "0    4132\n",
       "4    4072\n",
       "8    4063\n",
       "5    3795\n",
       "Name: label, dtype: int64"
      ]
     },
     "execution_count": 4,
     "metadata": {},
     "output_type": "execute_result"
    },
    {
     "data": {
      "image/png": "[encoded data removed]",
      "text/plain": [
       "<Figure size 432x288 with 1 Axes>"
      ]
     },
     "metadata": {
      "needs_background": "light"
     },
     "output_type": "display_data"
    }
   ],
   "source": [
    "Y_train = train[\"label\"]\n",
    "X_train = train.drop(labels = [\"label\"],axis = 1) \n",
    "\n",
    "# Visualization:\n",
    "g = sns.countplot(Y_train)\n",
    "Y_train.value_counts()"
   ]
  },
  {
   "cell_type": "markdown",
   "metadata": {},
   "source": [
    "#### Checking for nulls:"
   ]
  },
  {
   "cell_type": "code",
   "execution_count": 5,
   "metadata": {},
   "outputs": [
    {
     "data": {
      "text/plain": [
       "count       784\n",
       "unique        1\n",
       "top       False\n",
       "freq        784\n",
       "dtype: object"
      ]
     },
     "execution_count": 5,
     "metadata": {},
     "output_type": "execute_result"
    }
   ],
   "source": [
    "X_train.isnull().any().describe()"
   ]
  },
  {
   "cell_type": "code",
   "execution_count": 6,
   "metadata": {},
   "outputs": [
    {
     "data": {
      "text/plain": [
       "count       784\n",
       "unique        1\n",
       "top       False\n",
       "freq        784\n",
       "dtype: object"
      ]
     },
     "execution_count": 6,
     "metadata": {},
     "output_type": "execute_result"
    }
   ],
   "source": [
    "test.isnull().any().describe()"
   ]
  },
  {
   "cell_type": "markdown",
   "metadata": {},
   "source": [
    "#### Normalization:\n",
    "  \n",
    "From grayscale 0~255 to 0~1  \n",
    "  "
   ]
  },
  {
   "cell_type": "code",
   "execution_count": 7,
   "metadata": {},
   "outputs": [],
   "source": [
    "X_train = X_train / 255.0\n",
    "test = test / 255.0"
   ]
  },
  {
   "cell_type": "markdown",
   "metadata": {},
   "source": [
    "#### Reshaping:\n",
    "From 1D 784 to 28x28x1"
   ]
  },
  {
   "cell_type": "code",
   "execution_count": 8,
   "metadata": {},
   "outputs": [
    {
     "data": {
      "image/png": "[encoded data removed]",
      "text/plain": [
       "<Figure size 432x288 with 1 Axes>"
      ]
     },
     "metadata": {
      "needs_background": "light"
     },
     "output_type": "display_data"
    }
   ],
   "source": [
    "X_train = X_train.values.reshape(-1,28,28,1)\n",
    "test = test.values.reshape(-1,28,28,1)\n",
    "\n",
    "g = plt.imshow(X_train[0][:,:,0], cmap=plt.cm.binary)"
   ]
  },
  {
   "cell_type": "markdown",
   "metadata": {},
   "source": [
    "#### Y_train label to hot vector"
   ]
  },
  {
   "cell_type": "code",
   "execution_count": 9,
   "metadata": {},
   "outputs": [
    {
     "data": {
      "text/plain": [
       "array([0., 1., 0., 0., 0., 0., 0., 0., 0., 0.], dtype=float32)"
      ]
     },
     "execution_count": 9,
     "metadata": {},
     "output_type": "execute_result"
    }
   ],
   "source": [
    "Y_train = to_categorical(Y_train, num_classes = 10)\n",
    "\n",
    "Y_train[0]"
   ]
  },
  {
   "cell_type": "markdown",
   "metadata": {},
   "source": [
    "#### Splitting test data"
   ]
  },
  {
   "cell_type": "code",
   "execution_count": 10,
   "metadata": {},
   "outputs": [],
   "source": [
    "random_seed = 0\n",
    "\n",
    "X_train, X_test, Y_train, Y_test = train_test_split(X_train, Y_train,\n",
    "                                                  test_size=0.1, # 10% used for validation\n",
    "                                                  random_state=random_seed)"
   ]
  },
  {
   "cell_type": "markdown",
   "metadata": {},
   "source": [
    "#### Saving processed data\n",
    "    Using pickle to save processed data"
   ]
  },
  {
   "cell_type": "code",
   "execution_count": 11,
   "metadata": {},
   "outputs": [],
   "source": [
    "pfile = open(os.path.join(\"X_train.pickle\"), \"wb\")\n",
    "pickle.dump(X_train, pfile)\n",
    "pfile.close()\n",
    "\n",
    "pfile = open(os.path.join(\"X_test.pickle\"), \"wb\")\n",
    "pickle.dump(X_test, pfile)\n",
    "pfile.close()\n",
    "\n",
    "pfile = open(os.path.join(\"Y_train.pickle\"), \"wb\")\n",
    "pickle.dump(Y_train, pfile)\n",
    "pfile.close()\n",
    "\n",
    "pfile = open(os.path.join(\"Y_test.pickle\"), \"wb\")\n",
    "pickle.dump(Y_test, pfile)\n",
    "pfile.close()"
   ]
  },
  {
   "cell_type": "code",
   "execution_count": 40,
   "metadata": {},
   "outputs": [],
   "source": [
    "pfile = open(os.path.join(\"X_train.pickle\"), \"rb\")\n",
    "X_train = pickle.load(pfile)\n",
    "pfile.close()\n",
    "\n",
    "pfile = open(os.path.join(\"X_test.pickle\"), \"rb\")\n",
    "X_test = pickle.load(pfile)\n",
    "pfile.close()\n",
    "\n",
    "pfile = open(os.path.join(\"Y_train.pickle\"), \"rb\")\n",
    "Y_train = pickle.load(pfile)\n",
    "pfile.close()\n",
    "\n",
    "pfile = open(os.path.join(\"Y_test.pickle\"), \"rb\")\n",
    "Y_test = pickle.load(pfile)\n",
    "pfile.close()"
   ]
  },
  {
   "cell_type": "markdown",
   "metadata": {},
   "source": [
    "## Models\n",
    "+ Simple\n",
    "+ Convoluted"
   ]
  },
  {
   "cell_type": "markdown",
   "metadata": {},
   "source": [
    "### Super simple model\n",
    "     Input Layer\n",
    "     All connected, size 128\n",
    "     All connected, size 128\n",
    "     Output all connected, size 10"
   ]
  },
  {
   "cell_type": "code",
   "execution_count": 34,
   "metadata": {},
   "outputs": [],
   "source": [
    "simple_model = Sequential()\n",
    "\n",
    "simple_model.add(Flatten())\n",
    "simple_model.add(Dense(128, activation=\"relu\"))\n",
    "simple_model.add(Dense(128, activation=\"relu\"))\n",
    "simple_model.add(Dense(10, activation=\"softmax\"))"
   ]
  },
  {
   "cell_type": "markdown",
   "metadata": {},
   "source": [
    "#### Training\n",
    "    Using \"adam\" as optimizer: this is an ordinary optimizer for NNs\n",
    "    \"categorical_crossentropy\" as loss function: this is also ordinary\n",
    "    Epoch: 5, not a very complicated network"
   ]
  },
  {
   "cell_type": "code",
   "execution_count": 35,
   "metadata": {},
   "outputs": [],
   "source": [
    "simple_model.compile(optimizer='adam',\n",
    "            loss='categorical_crossentropy',\n",
    "            metrics=['accuracy'])"
   ]
  },
  {
   "cell_type": "code",
   "execution_count": 37,
   "metadata": {
    "collapsed": true
   },
   "outputs": [
    {
     "name": "stdout",
     "output_type": "stream",
     "text": [
      "Train on 37800 samples, validate on 4200 samples\n",
      "Epoch 1/30\n",
      "37800/37800 [==============================] - 5s 128us/step - loss: 0.0331 - acc: 0.9892 - val_loss: 0.1288 - val_acc: 0.9671\n",
      "Epoch 2/30\n",
      "37800/37800 [==============================] - 5s 120us/step - loss: 0.0270 - acc: 0.9908 - val_loss: 0.1228 - val_acc: 0.9681\n",
      "Epoch 3/30\n",
      "37800/37800 [==============================] - 4s 118us/step - loss: 0.0248 - acc: 0.9918 - val_loss: 0.1349 - val_acc: 0.9679\n",
      "Epoch 4/30\n",
      "37800/37800 [==============================] - 4s 119us/step - loss: 0.0198 - acc: 0.9935 - val_loss: 0.1520 - val_acc: 0.9662\n",
      "Epoch 5/30\n",
      "37800/37800 [==============================] - 5s 120us/step - loss: 0.0201 - acc: 0.9934 - val_loss: 0.1265 - val_acc: 0.9710\n",
      "Epoch 6/30\n",
      "37800/37800 [==============================] - 4s 119us/step - loss: 0.0136 - acc: 0.9953 - val_loss: 0.1480 - val_acc: 0.9695\n",
      "Epoch 7/30\n",
      "37800/37800 [==============================] - 5s 124us/step - loss: 0.0204 - acc: 0.9934 - val_loss: 0.1460 - val_acc: 0.9700\n",
      "Epoch 8/30\n",
      "37800/37800 [==============================] - 5s 124us/step - loss: 0.0128 - acc: 0.9959 - val_loss: 0.1381 - val_acc: 0.9690\n",
      "Epoch 9/30\n",
      "37800/37800 [==============================] - 5s 122us/step - loss: 0.0114 - acc: 0.9958 - val_loss: 0.1576 - val_acc: 0.9700\n",
      "Epoch 10/30\n",
      "37800/37800 [==============================] - 5s 123us/step - loss: 0.0134 - acc: 0.9956 - val_loss: 0.1379 - val_acc: 0.9740\n",
      "Epoch 11/30\n",
      "37800/37800 [==============================] - 5s 121us/step - loss: 0.0141 - acc: 0.9953 - val_loss: 0.1952 - val_acc: 0.9662\n",
      "Epoch 12/30\n",
      "37800/37800 [==============================] - 5s 123us/step - loss: 0.0112 - acc: 0.9964 - val_loss: 0.1553 - val_acc: 0.9745\n",
      "Epoch 13/30\n",
      "37800/37800 [==============================] - 5s 122us/step - loss: 0.0081 - acc: 0.9976 - val_loss: 0.1456 - val_acc: 0.9743\n",
      "Epoch 14/30\n",
      "37800/37800 [==============================] - 5s 124us/step - loss: 0.0142 - acc: 0.9961 - val_loss: 0.1441 - val_acc: 0.9721\n",
      "Epoch 15/30\n",
      "37800/37800 [==============================] - 5s 123us/step - loss: 0.0109 - acc: 0.9964 - val_loss: 0.1735 - val_acc: 0.9707\n",
      "Epoch 16/30\n",
      "37800/37800 [==============================] - 5s 120us/step - loss: 0.0118 - acc: 0.9966 - val_loss: 0.1829 - val_acc: 0.9695\n",
      "Epoch 17/30\n",
      "37800/37800 [==============================] - 5s 120us/step - loss: 0.0065 - acc: 0.9981 - val_loss: 0.1659 - val_acc: 0.9736\n",
      "Epoch 18/30\n",
      "37800/37800 [==============================] - 5s 124us/step - loss: 0.0094 - acc: 0.9967 - val_loss: 0.1809 - val_acc: 0.9748\n",
      "Epoch 19/30\n",
      "37800/37800 [==============================] - 5s 123us/step - loss: 0.0112 - acc: 0.9963 - val_loss: 0.1726 - val_acc: 0.9738\n",
      "Epoch 20/30\n",
      "37800/37800 [==============================] - 5s 122us/step - loss: 0.0061 - acc: 0.9980 - val_loss: 0.1759 - val_acc: 0.9745\n",
      "Epoch 21/30\n",
      "37800/37800 [==============================] - 5s 122us/step - loss: 0.0088 - acc: 0.9976 - val_loss: 0.1595 - val_acc: 0.9738\n",
      "Epoch 22/30\n",
      "37800/37800 [==============================] - 5s 126us/step - loss: 0.0069 - acc: 0.9978 - val_loss: 0.1988 - val_acc: 0.9736\n",
      "Epoch 23/30\n",
      "37800/37800 [==============================] - 5s 123us/step - loss: 0.0123 - acc: 0.9959 - val_loss: 0.1689 - val_acc: 0.9755\n",
      "Epoch 24/30\n",
      "37800/37800 [==============================] - 5s 126us/step - loss: 0.0048 - acc: 0.9983 - val_loss: 0.1814 - val_acc: 0.9731\n",
      "Epoch 25/30\n",
      "37800/37800 [==============================] - 5s 120us/step - loss: 0.0074 - acc: 0.9978 - val_loss: 0.1982 - val_acc: 0.9721\n",
      "Epoch 26/30\n",
      "37800/37800 [==============================] - 5s 124us/step - loss: 0.0088 - acc: 0.9970 - val_loss: 0.1907 - val_acc: 0.9710\n",
      "Epoch 27/30\n",
      "37800/37800 [==============================] - 5s 123us/step - loss: 0.0091 - acc: 0.9973 - val_loss: 0.2009 - val_acc: 0.9726\n",
      "Epoch 28/30\n",
      "37800/37800 [==============================] - 5s 125us/step - loss: 0.0085 - acc: 0.9973 - val_loss: 0.1722 - val_acc: 0.9757\n",
      "Epoch 29/30\n",
      "37800/37800 [==============================] - 5s 123us/step - loss: 0.0057 - acc: 0.9984 - val_loss: 0.2055 - val_acc: 0.9738\n",
      "Epoch 30/30\n",
      "37800/37800 [==============================] - 5s 122us/step - loss: 0.0089 - acc: 0.9972 - val_loss: 0.1887 - val_acc: 0.9757\n"
     ]
    },
    {
     "data": {
      "text/plain": [
       "<keras.callbacks.History at 0x1d854873a58>"
      ]
     },
     "execution_count": 37,
     "metadata": {},
     "output_type": "execute_result"
    }
   ],
   "source": [
    "simple_model.fit(X_train, Y_train, \n",
    "                 epochs=30,\n",
    "                validation_data = (X_test,Y_test))"
   ]
  },
  {
   "cell_type": "markdown",
   "metadata": {},
   "source": [
    "#### Evaluation\n",
    "     Loss and accuracy is slightly lower than in training:\n",
    "     Not very overfitted"
   ]
  },
  {
   "cell_type": "code",
   "execution_count": 38,
   "metadata": {},
   "outputs": [
    {
     "name": "stdout",
     "output_type": "stream",
     "text": [
      "4200/4200 [==============================] - 0s 58us/step\n",
      "0.18869466008650318 0.9757142857142858\n"
     ]
    }
   ],
   "source": [
    "val_loss, val_acc = simple_model.evaluate(X_test, Y_test)\n",
    "print(val_loss, val_acc)"
   ]
  },
  {
   "cell_type": "markdown",
   "metadata": {},
   "source": [
    "#### Looking at a random example"
   ]
  },
  {
   "cell_type": "code",
   "execution_count": 17,
   "metadata": {},
   "outputs": [],
   "source": [
    "predictions = simple_model.predict([X_test])"
   ]
  },
  {
   "cell_type": "code",
   "execution_count": 18,
   "metadata": {},
   "outputs": [
    {
     "name": "stdout",
     "output_type": "stream",
     "text": [
      "1\n"
     ]
    },
    {
     "data": {
      "image/png": "[encoded data removed]",
      "text/plain": [
       "<Figure size 432x288 with 1 Axes>"
      ]
     },
     "metadata": {
      "needs_background": "light"
     },
     "output_type": "display_data"
    }
   ],
   "source": [
    "choice = np.random.randint(0,4201)\n",
    "\n",
    "print(np.argmax(predictions[choice]))\n",
    "g = plt.imshow(X_test[choice][:,:,0], cmap=plt.cm.binary)"
   ]
  },
  {
   "cell_type": "markdown",
   "metadata": {},
   "source": [
    "#### Saving simple_model"
   ]
  },
  {
   "cell_type": "code",
   "execution_count": 39,
   "metadata": {},
   "outputs": [],
   "source": [
    "simple_model_name = \"mnist-simple-{}.model\".format(int(time.time()))\n",
    "simple_model.save(os.path.join(simple_model_name))"
   ]
  },
  {
   "cell_type": "markdown",
   "metadata": {},
   "source": [
    "### CNN Model:\n",
    "    Convlution size32 x2\n",
    "    Down Sampling by 2x2\n",
    "    Drop Out by 25% probablity\n",
    "    \n",
    "    Convlution size64 x2\n",
    "    Down Sampling by 2x2\n",
    "    Drop Out by 25% probablity\n",
    "    \n",
    "    Flatten layer\n",
    "    All connected size256\n",
    "    Drop Out by 50% probablity\n",
    "    Output all connected size10"
   ]
  },
  {
   "cell_type": "code",
   "execution_count": 50,
   "metadata": {},
   "outputs": [],
   "source": [
    "cnn_model = Sequential()\n",
    "\n",
    "cnn_model.add(Conv2D(filters = 32,\n",
    "                    kernel_size = (5,5),\n",
    "                    padding = 'Same',\n",
    "                    activation = 'relu',\n",
    "                    input_shape = (28,28,1)))\n",
    "\n",
    "cnn_model.add(Conv2D(filters = 32,\n",
    "                    kernel_size = (5,5),\n",
    "                    padding = 'Same',\n",
    "                    activation = 'relu',\n",
    "                    input_shape = (28,28,1)))\n",
    "\n",
    "cnn_model.add(MaxPool2D(pool_size=(2, 2)))\n",
    "cnn_model.add(Dropout(0.25))\n",
    "\n",
    "\n",
    "cnn_model.add(Conv2D(filters = 64,\n",
    "                    kernel_size = (3, 3),\n",
    "                    padding = 'Same',\n",
    "                    activation = 'relu',\n",
    "                    input_shape = (28,28,1)))\n",
    "\n",
    "cnn_model.add(Conv2D(filters = 64,\n",
    "                    kernel_size = (3, 3),\n",
    "                    padding = 'Same',\n",
    "                    activation = 'relu',\n",
    "                    input_shape = (28,28,1)))\n",
    "\n",
    "cnn_model.add(MaxPool2D(pool_size=(2, 2),\n",
    "                        strides=(2, 2)))\n",
    "cnn_model.add(Dropout(0.25))\n",
    "\n",
    "cnn_model.add(Flatten())\n",
    "cnn_model.add(Dense(256, activation='relu'))\n",
    "cnn_model.add(Dropout(0.5))\n",
    "cnn_model.add(Dense(10, activation='softmax')) # Output Layer"
   ]
  },
  {
   "cell_type": "markdown",
   "metadata": {},
   "source": [
    "#### Optimizer and loss function\n",
    "* Optimizer:\n",
    "      \"Adam\", because it is easier to type\n",
    "* Loss Function:\n",
    "      categorical_crossentropy as ordinary loss function"
   ]
  },
  {
   "cell_type": "code",
   "execution_count": 51,
   "metadata": {},
   "outputs": [
    {
     "data": {
      "text/plain": [
       "True"
      ]
     },
     "execution_count": 51,
     "metadata": {},
     "output_type": "execute_result"
    }
   ],
   "source": [
    "cnn_model.compile(optimizer='adam',\n",
    "                loss='categorical_crossentropy',\n",
    "                metrics=['accuracy'])\n",
    "hasattr(cnn_model, 'train_function')"
   ]
  },
  {
   "cell_type": "markdown",
   "metadata": {},
   "source": [
    "#### Learning rate reduction"
   ]
  },
  {
   "cell_type": "code",
   "execution_count": 52,
   "metadata": {},
   "outputs": [],
   "source": [
    "learning_rate_reduction = ReduceLROnPlateau(monitor='val_acc', \n",
    "                                            patience=3, \n",
    "                                            verbose=1, \n",
    "                                            factor=0.5, \n",
    "                                            min_lr=0.00001)"
   ]
  },
  {
   "cell_type": "markdown",
   "metadata": {},
   "source": [
    "#### Data augmentation\n",
    "    Randomly shift, zoom ,rotate; manipulate the images to minimize overfitting"
   ]
  },
  {
   "cell_type": "code",
   "execution_count": 53,
   "metadata": {},
   "outputs": [],
   "source": [
    "datagen = ImageDataGenerator(\n",
    "        featurewise_center=False,  # set input mean to 0 over the dataset\n",
    "        samplewise_center=False,  # set each sample mean to 0\n",
    "        featurewise_std_normalization=False,  # divide inputs by std of the dataset\n",
    "        samplewise_std_normalization=False,  # divide each input by its std\n",
    "        zca_whitening=False,  # apply ZCA whitening\n",
    "        rotation_range=10,  # randomly rotate images in the range (degrees, 0 to 180)\n",
    "        zoom_range = 0.1, # Randomly zoom image \n",
    "        width_shift_range=0.1,  # randomly shift images horizontally (fraction of total width)\n",
    "        height_shift_range=0.1,  # randomly shift images vertically (fraction of total height)\n",
    "        horizontal_flip=False,  # randomly flip images\n",
    "        vertical_flip=False)  # randomly flip images\n",
    "\n",
    "datagen.fit(X_train)"
   ]
  },
  {
   "cell_type": "markdown",
   "metadata": {},
   "source": [
    "#### Training"
   ]
  },
  {
   "cell_type": "code",
   "execution_count": 54,
   "metadata": {},
   "outputs": [],
   "source": [
    "epochs = 16\n",
    "batch_size = 32"
   ]
  },
  {
   "cell_type": "code",
   "execution_count": 55,
   "metadata": {},
   "outputs": [],
   "source": [
    "#Setting up TensorBoard:\n",
    "cnn_model_name = \"mnist-cnn-e%i-b%i-%i\" %(epochs, batch_size,int(time.time()))\n",
    "logd = os.path.join(working_dir, \"logs\", cnn_model_name)\n",
    "tensorboard = TensorBoard(log_dir=logd)"
   ]
  },
  {
   "cell_type": "code",
   "execution_count": 56,
   "metadata": {
    "collapsed": true
   },
   "outputs": [
    {
     "name": "stdout",
     "output_type": "stream",
     "text": [
      "Epoch 1/16\n",
      "1181/1181 [==============================] - 12s 10ms/step - loss: 0.3436 - acc: 0.8912 - val_loss: 0.0631 - val_acc: 0.9821\n",
      "Epoch 2/16\n",
      "1181/1181 [==============================] - 12s 10ms/step - loss: 0.1224 - acc: 0.9639 - val_loss: 0.0399 - val_acc: 0.9879\n",
      "Epoch 3/16\n",
      "1181/1181 [==============================] - 11s 10ms/step - loss: 0.0903 - acc: 0.9735 - val_loss: 0.0442 - val_acc: 0.9881\n",
      "Epoch 4/16\n",
      "1181/1181 [==============================] - 11s 10ms/step - loss: 0.0792 - acc: 0.9762 - val_loss: 0.0593 - val_acc: 0.9824\n",
      "Epoch 5/16\n",
      "1181/1181 [==============================] - 11s 10ms/step - loss: 0.0700 - acc: 0.9790 - val_loss: 0.0429 - val_acc: 0.9888\n",
      "Epoch 6/16\n",
      "1181/1181 [==============================] - 11s 10ms/step - loss: 0.0642 - acc: 0.9815 - val_loss: 0.0322 - val_acc: 0.9912\n",
      "Epoch 7/16\n",
      "1181/1181 [==============================] - 11s 10ms/step - loss: 0.0619 - acc: 0.9820 - val_loss: 0.0250 - val_acc: 0.9907\n",
      "Epoch 8/16\n",
      "1181/1181 [==============================] - 11s 10ms/step - loss: 0.0594 - acc: 0.9824 - val_loss: 0.0272 - val_acc: 0.9921\n",
      "Epoch 9/16\n",
      "1181/1181 [==============================] - 11s 10ms/step - loss: 0.0573 - acc: 0.9829 - val_loss: 0.0255 - val_acc: 0.9929\n",
      "Epoch 10/16\n",
      "1181/1181 [==============================] - 11s 10ms/step - loss: 0.0511 - acc: 0.9851 - val_loss: 0.0201 - val_acc: 0.9948\n",
      "Epoch 11/16\n",
      "1181/1181 [==============================] - 11s 10ms/step - loss: 0.0489 - acc: 0.9858 - val_loss: 0.0252 - val_acc: 0.9938\n",
      "Epoch 12/16\n",
      "1181/1181 [==============================] - 11s 10ms/step - loss: 0.0469 - acc: 0.9863 - val_loss: 0.0221 - val_acc: 0.9933\n",
      "Epoch 13/16\n",
      "1181/1181 [==============================] - 11s 10ms/step - loss: 0.0499 - acc: 0.9854 - val_loss: 0.0281 - val_acc: 0.9924\n",
      "\n",
      "Epoch 00013: ReduceLROnPlateau reducing learning rate to 0.0005000000237487257.\n",
      "Epoch 14/16\n",
      "1181/1181 [==============================] - 11s 10ms/step - loss: 0.0364 - acc: 0.9894 - val_loss: 0.0195 - val_acc: 0.9943\n",
      "Epoch 15/16\n",
      "1181/1181 [==============================] - 11s 10ms/step - loss: 0.0319 - acc: 0.9910 - val_loss: 0.0187 - val_acc: 0.9948\n",
      "Epoch 16/16\n",
      "1181/1181 [==============================] - 11s 10ms/step - loss: 0.0327 - acc: 0.9905 - val_loss: 0.0187 - val_acc: 0.9945\n",
      "\n",
      "Epoch 00016: ReduceLROnPlateau reducing learning rate to 0.0002500000118743628.\n"
     ]
    }
   ],
   "source": [
    "history = cnn_model.fit_generator(datagen.flow(X_train,Y_train,batch_size=batch_size),\n",
    "                                  epochs = epochs, \n",
    "                                  validation_data = (X_test,Y_test), \n",
    "                                  steps_per_epoch = X_train.shape[0] // batch_size, \n",
    "                                  callbacks = [learning_rate_reduction, tensorboard])"
   ]
  },
  {
   "cell_type": "code",
   "execution_count": 57,
   "metadata": {},
   "outputs": [
    {
     "name": "stdout",
     "output_type": "stream",
     "text": [
      "4200/4200 [==============================] - 0s 105us/step\n",
      "0.018718373173953643 0.9945238095238095\n"
     ]
    }
   ],
   "source": [
    "val_loss, val_acc = cnn_model.evaluate(X_test, Y_test)\n",
    "print(val_loss, val_acc)"
   ]
  },
  {
   "cell_type": "code",
   "execution_count": 58,
   "metadata": {},
   "outputs": [],
   "source": [
    "cnn_model.save(os.path.join(cnn_model_name)+\".model\")"
   ]
  },
  {
   "cell_type": "code",
   "execution_count": null,
   "metadata": {},
   "outputs": [],
   "source": []
  }
 ],
 "metadata": {
  "kernelspec": {
   "display_name": "Python (tfGPU)",
   "language": "python",
   "name": "tfgpu"
  },
  "language_info": {
   "codemirror_mode": {
    "name": "ipython",
    "version": 3
   },
   "file_extension": ".py",
   "mimetype": "text/x-python",
   "name": "python",
   "nbconvert_exporter": "python",
   "pygments_lexer": "ipython3",
   "version": "3.6.7"
  }
 },
 "nbformat": 4,
 "nbformat_minor": 2
}
