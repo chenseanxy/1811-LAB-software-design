{
 "cells": [
  {
   "cell_type": "markdown",
   "metadata": {},
   "source": [
    "## Python File Movement"
   ]
  },
  {
   "cell_type": "code",
   "execution_count": 1,
   "metadata": {},
   "outputs": [],
   "source": [
    "import os\n",
    "import pandas as pd\n",
    "import shutil\n",
    "\n",
    "working_dir = \"C:/Users/chenx/Desktop/1811_softdesign/20181216 - Python File\"\n",
    "png_path = os.path.join(working_dir, \"train\")\n",
    "csv_path = os.path.join(working_dir, \"train_label.csv\")"
   ]
  },
  {
   "cell_type": "code",
   "execution_count": 2,
   "metadata": {},
   "outputs": [],
   "source": [
    "csv = pd.read_csv(csv_path)\n",
    "for index, row in csv.iterrows():\n",
    "    png_filename_1 = str(row[\"id\"])+\"_c.png\"\n",
    "    png_filename_2 = str(row[\"id\"])+\"_v.png\"\n",
    "\n",
    "    orig_pth_1 = os.path.join(png_path, png_filename_1)\n",
    "    orig_pth_2 = os.path.join(png_path, png_filename_2)\n",
    "    \n",
    "    dest_pth = os.path.join(png_path, str(row[\"appliance\"]))\n",
    "\n",
    "    if not os.path.isdir(dest_pth):\n",
    "        os.makedirs(dest_pth)\n",
    "    \n",
    "    shutil.copy(orig_pth_1, dest_pth)\n",
    "    shutil.copy(orig_pth_2, dest_pth)"
   ]
  }
 ],
 "metadata": {
  "kernelspec": {
   "display_name": "Python [conda env:tf]",
   "language": "python",
   "name": "conda-env-tf-py"
  },
  "language_info": {
   "codemirror_mode": {
    "name": "ipython",
    "version": 3
   },
   "file_extension": ".py",
   "mimetype": "text/x-python",
   "name": "python",
   "nbconvert_exporter": "python",
   "pygments_lexer": "ipython3",
   "version": "3.6.7"
  }
 },
 "nbformat": 4,
 "nbformat_minor": 2
}
